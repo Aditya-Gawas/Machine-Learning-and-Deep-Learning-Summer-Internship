{
 "cells": [
  {
   "cell_type": "markdown",
   "id": "e1aeb747",
   "metadata": {},
   "source": [
    "# #Task 1"
   ]
  },
  {
   "cell_type": "markdown",
   "id": "9151e2c1",
   "metadata": {},
   "source": [
    "## Registration/Referral ID - SIRSS2279"
   ]
  },
  {
   "cell_type": "markdown",
   "id": "fb7c7f84",
   "metadata": {},
   "source": [
    "## Full Name - Aditya Atmaram Gawas"
   ]
  },
  {
   "cell_type": "markdown",
   "id": "2cca4ab2",
   "metadata": {},
   "source": [
    "### 1."
   ]
  },
  {
   "cell_type": "code",
   "execution_count": 94,
   "id": "81e8fd96",
   "metadata": {},
   "outputs": [
    {
     "name": "stdout",
     "output_type": "stream",
     "text": [
      "5 5 5 5 5 \n",
      "5 5 5 5 \n",
      "5 5 5 \n",
      "5 5 \n",
      "5 \n"
     ]
    }
   ],
   "source": [
    "n=5\n",
    "for i in range(n,0,-1):\n",
    "    for j in range(0,i):\n",
    "        print(5,end=\" \")\n",
    "    print()"
   ]
  },
  {
   "cell_type": "markdown",
   "id": "877c4f24",
   "metadata": {},
   "source": [
    "### 2."
   ]
  },
  {
   "cell_type": "code",
   "execution_count": 95,
   "id": "54a71ce5",
   "metadata": {},
   "outputs": [
    {
     "name": "stdout",
     "output_type": "stream",
     "text": [
      "0 1 2 3 4 5 \n",
      "0 1 2 3 4 \n",
      "0 1 2 3 \n",
      "0 1 2 \n",
      "0 1 \n"
     ]
    }
   ],
   "source": [
    "n=6\n",
    "for i in range(n,1,-1):\n",
    "    for j in range(0,i):\n",
    "        print(j,end=\" \")\n",
    "    print()"
   ]
  },
  {
   "cell_type": "markdown",
   "id": "424b3f96",
   "metadata": {},
   "source": [
    "### 3."
   ]
  },
  {
   "cell_type": "code",
   "execution_count": 96,
   "id": "a40e8615",
   "metadata": {},
   "outputs": [
    {
     "name": "stdout",
     "output_type": "stream",
     "text": [
      "1 \n",
      "3 3 \n",
      "5 5 5 \n",
      "7 7 7 7 \n",
      "9 9 9 9 9 \n"
     ]
    }
   ],
   "source": [
    "n=5\n",
    "k=1\n",
    "for i in range(1,n+1):\n",
    "    for j in range(0,i):\n",
    "        print(k,end=\" \")\n",
    "    k=k+2\n",
    "    print()"
   ]
  },
  {
   "cell_type": "markdown",
   "id": "0db0d776",
   "metadata": {},
   "source": [
    "### 4."
   ]
  },
  {
   "cell_type": "code",
   "execution_count": 97,
   "id": "89207630",
   "metadata": {},
   "outputs": [
    {
     "name": "stdout",
     "output_type": "stream",
     "text": [
      "1 \n",
      "2 1 \n",
      "3 2 1 \n",
      "4 3 2 1 \n",
      "5 4 3 2 1 \n"
     ]
    }
   ],
   "source": [
    "n=5\n",
    "for i in range(1,n+1):\n",
    "    for j in range(i,0,-1):\n",
    "        print(j,end=\" \")\n",
    "    print()"
   ]
  },
  {
   "cell_type": "markdown",
   "id": "fcfcf602",
   "metadata": {},
   "source": [
    "### 5."
   ]
  },
  {
   "cell_type": "code",
   "execution_count": 98,
   "id": "b93d0b51",
   "metadata": {},
   "outputs": [
    {
     "name": "stdout",
     "output_type": "stream",
     "text": [
      "1 \n",
      "3 2 \n",
      "6 5 4 \n",
      "10 9 8 7 \n"
     ]
    }
   ],
   "source": [
    "n=4\n",
    "start_row=0\n",
    "for i in range(1,n+1):\n",
    "    start_row=i+start_row\n",
    "    val=start_row\n",
    "    for j in range(0,i):\n",
    "        print(val,end=\" \")\n",
    "        val=val-1\n",
    "    print()"
   ]
  },
  {
   "cell_type": "markdown",
   "id": "950681c7",
   "metadata": {},
   "source": [
    "### 6."
   ]
  },
  {
   "cell_type": "code",
   "execution_count": 99,
   "id": "4e27d44f",
   "metadata": {},
   "outputs": [
    {
     "name": "stdout",
     "output_type": "stream",
     "text": [
      "1 \n",
      "1 1 \n",
      "1 2 1 \n",
      "1 3 3 1 \n",
      "1 4 6 4 1 \n",
      "1 5 10 10 5 1 \n",
      "1 6 15 20 15 6 1 \n"
     ]
    }
   ],
   "source": [
    "def fact(num):\n",
    "    if num==0:\n",
    "        return 1\n",
    "    else:\n",
    "        return (num*fact(num-1))\n",
    "n=7\n",
    "for i in range(0,n):\n",
    "    for j in range(0,i+1):\n",
    "        val=int(fact(i) / (fact(j) * fact(i-j)))\n",
    "        print(val,end=\" \")\n",
    "    print()"
   ]
  },
  {
   "cell_type": "markdown",
   "id": "4618e055",
   "metadata": {},
   "source": [
    "### 7."
   ]
  },
  {
   "cell_type": "code",
   "execution_count": 100,
   "id": "8402883d",
   "metadata": {},
   "outputs": [
    {
     "name": "stdout",
     "output_type": "stream",
     "text": [
      "1 2 3 4 5 \n",
      "2 2 3 4 5 \n",
      "3 3 3 4 5 \n",
      "4 4 4 4 5 \n",
      "5 5 5 5 5 \n"
     ]
    }
   ],
   "source": [
    "n=5\n",
    "for i in range(1,n+1):\n",
    "    for j in range(1,6):\n",
    "        val=i if(i>j) else j\n",
    "        print(val,end=\" \")\n",
    "    print()"
   ]
  },
  {
   "cell_type": "markdown",
   "id": "271469d3",
   "metadata": {},
   "source": [
    "### 8."
   ]
  },
  {
   "cell_type": "code",
   "execution_count": 101,
   "id": "2eaf1414",
   "metadata": {},
   "outputs": [
    {
     "name": "stdout",
     "output_type": "stream",
     "text": [
      "1 \n",
      "2 4 \n",
      "3 6 9 \n",
      "4 8 12 16 \n",
      "5 10 15 20 25 \n",
      "6 12 18 24 30 36 \n",
      "7 14 21 28 35 42 49 \n",
      "8 16 24 32 40 48 56 64 \n"
     ]
    }
   ],
   "source": [
    "n=8\n",
    "for i in range(1,n+1):\n",
    "    for j in range(1,i+1):\n",
    "        print(i*j,end=\" \")\n",
    "    print()"
   ]
  },
  {
   "cell_type": "markdown",
   "id": "b53e4d1f",
   "metadata": {},
   "source": [
    "### 9."
   ]
  },
  {
   "cell_type": "code",
   "execution_count": 102,
   "id": "8c5a5f49",
   "metadata": {},
   "outputs": [
    {
     "name": "stdout",
     "output_type": "stream",
     "text": [
      "* * * * * * \n",
      " * * * * * \n",
      "  * * * * \n",
      "   * * * \n",
      "    * * \n",
      "     * \n"
     ]
    }
   ],
   "source": [
    "n=6\n",
    "sp=0\n",
    "for i in range(n,0,-1):\n",
    "    for k in range(0,sp):\n",
    "        print(\" \",end=\"\")\n",
    "    for j in range(0,i):\n",
    "        print(\"*\",end=\" \")\n",
    "    sp=sp+1\n",
    "    print()"
   ]
  },
  {
   "cell_type": "markdown",
   "id": "11f1216b",
   "metadata": {},
   "source": [
    "### 10."
   ]
  },
  {
   "cell_type": "code",
   "execution_count": 103,
   "id": "5e26167e",
   "metadata": {},
   "outputs": [
    {
     "name": "stdout",
     "output_type": "stream",
     "text": [
      "        *  \n",
      "       *   *  \n",
      "      *   *   *  \n",
      "     *   *   *   *  \n",
      "    *   *   *   *   *  \n",
      "   *   *   *   *   *   *  \n",
      "  *   *   *   *   *   *   *  \n"
     ]
    }
   ],
   "source": [
    "n=7\n",
    "sp=7\n",
    "for i in range(1,n+1):\n",
    "    for k in range(0,sp):\n",
    "        print(\" \",end=\"\")\n",
    "    for j in range(0,i):\n",
    "        print(\" * \",end=\" \")\n",
    "    sp=sp-1\n",
    "    print()"
   ]
  },
  {
   "cell_type": "markdown",
   "id": "9c96a6fa",
   "metadata": {},
   "source": [
    "### 11."
   ]
  },
  {
   "cell_type": "code",
   "execution_count": 104,
   "id": "b19105e3",
   "metadata": {},
   "outputs": [
    {
     "name": "stdout",
     "output_type": "stream",
     "text": [
      "* \n",
      "* * \n",
      "* * * \n",
      "* * * * \n",
      "* * * * * \n",
      "* * * * * * \n",
      "\n",
      "* * * * * * \n",
      "* * * * * \n",
      "* * * * \n",
      "* * * \n",
      "* * \n",
      "* \n"
     ]
    }
   ],
   "source": [
    "n=6\n",
    "for i in range(1,n+1):\n",
    "    for j in range(0,i):\n",
    "        print(\"*\",end=\" \")\n",
    "    print()\n",
    "print()\n",
    "for i in range(n,0,-1):\n",
    "    for j in range(0,i):\n",
    "        print(\"*\",end=\" \")\n",
    "    print()"
   ]
  },
  {
   "cell_type": "markdown",
   "id": "4603a963",
   "metadata": {},
   "source": [
    "### 12."
   ]
  },
  {
   "cell_type": "code",
   "execution_count": 105,
   "id": "60102bdd",
   "metadata": {},
   "outputs": [
    {
     "name": "stdout",
     "output_type": "stream",
     "text": [
      "* \n",
      "* * \n",
      "* * * \n",
      "* * * * \n",
      "* * * * * \n",
      "* * * * \n",
      "* * * \n",
      "* * \n",
      "* \n"
     ]
    }
   ],
   "source": [
    "n=5\n",
    "for i in range(1,n+1):\n",
    "    for j in range(0,i):\n",
    "        print(\"*\",end=\" \")\n",
    "    print()\n",
    "for l in range(n-1,0,-1):\n",
    "    for j in range(0,l):\n",
    "        print(\"*\",end=\" \")\n",
    "    print()"
   ]
  },
  {
   "cell_type": "markdown",
   "id": "bd19687f",
   "metadata": {},
   "source": [
    "### 13."
   ]
  },
  {
   "cell_type": "code",
   "execution_count": 106,
   "id": "a9177bcb",
   "metadata": {},
   "outputs": [
    {
     "name": "stdout",
     "output_type": "stream",
     "text": [
      "        * \n",
      "      * * \n",
      "    * * * \n",
      "  * * * * \n",
      "* * * * * \n",
      "  * * * * \n",
      "    * * * \n",
      "      * * \n",
      "        * \n"
     ]
    }
   ],
   "source": [
    "n=5\n",
    "sp=5\n",
    "for i in range(1,n+1):\n",
    "    for k in range(1,sp):\n",
    "        print(\" \",end=\" \")\n",
    "    for j in range(0,i):\n",
    "        print(\"*\",end=\" \")\n",
    "    print()\n",
    "    sp=sp-1\n",
    "sp=1\n",
    "for i in range(n-1,0,-1):\n",
    "    for k in range(0,sp):\n",
    "        print(\" \",end=\" \")\n",
    "    for j in range(0,i):\n",
    "        print(\"*\",end=\" \")\n",
    "    print()\n",
    "    sp=sp+1"
   ]
  },
  {
   "cell_type": "markdown",
   "id": "2fc9484d",
   "metadata": {},
   "source": [
    "### 14."
   ]
  },
  {
   "cell_type": "code",
   "execution_count": 107,
   "id": "a4254fa9",
   "metadata": {},
   "outputs": [
    {
     "name": "stdout",
     "output_type": "stream",
     "text": [
      "* * * * * \n",
      " * * * * \n",
      "  * * * \n",
      "   * * \n",
      "    * \n",
      "    * \n",
      "   * * \n",
      "  * * * \n",
      " * * * * \n",
      "* * * * * \n"
     ]
    }
   ],
   "source": [
    "n=5\n",
    "sp=0\n",
    "for i in range(n,0,-1):\n",
    "    for k in range(0,sp):\n",
    "        print(\" \",end=\"\")\n",
    "    for j in range(0,i):\n",
    "        print(\"*\",end=\" \")\n",
    "    print()\n",
    "    sp=sp+1\n",
    "sp=4\n",
    "for i in range(1,n+1):\n",
    "    for k in range(0,sp):\n",
    "        print(\" \",end=\"\")\n",
    "    for j in range(0,i):\n",
    "        print(\"*\",end=\" \")\n",
    "    print()\n",
    "    sp=sp-1"
   ]
  },
  {
   "cell_type": "markdown",
   "id": "3d1341c3",
   "metadata": {},
   "source": [
    "### 15."
   ]
  },
  {
   "cell_type": "code",
   "execution_count": 108,
   "id": "231664dc",
   "metadata": {},
   "outputs": [
    {
     "name": "stdout",
     "output_type": "stream",
     "text": [
      "****************\n",
      "*******__*******\n",
      "******____******\n",
      "*****______*****\n",
      "****________****\n",
      "***__________***\n",
      "**____________**\n",
      "*______________*\n"
     ]
    }
   ],
   "source": [
    "n=8\n",
    "sp=8\n",
    "for i in range(0,n):\n",
    "    for k in range(0,sp):\n",
    "        print(\"*\",end=\"\")\n",
    "    for i in range(0,i):\n",
    "        print(\"__\",end=\"\")\n",
    "    for k in range(0,sp):\n",
    "        print(\"*\",end=\"\")\n",
    "    sp=sp-1\n",
    "    print()"
   ]
  }
 ],
 "metadata": {
  "kernelspec": {
   "display_name": "Python 3",
   "language": "python",
   "name": "python3"
  },
  "language_info": {
   "codemirror_mode": {
    "name": "ipython",
    "version": 3
   },
   "file_extension": ".py",
   "mimetype": "text/x-python",
   "name": "python",
   "nbconvert_exporter": "python",
   "pygments_lexer": "ipython3",
   "version": "3.8.8"
  }
 },
 "nbformat": 4,
 "nbformat_minor": 5
}
